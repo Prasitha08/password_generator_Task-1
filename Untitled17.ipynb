{
  "nbformat": 4,
  "nbformat_minor": 0,
  "metadata": {
    "colab": {
      "provenance": [],
      "authorship_tag": "ABX9TyMOUj/CVqIpBxgoFh02vWwc",
      "include_colab_link": true
    },
    "kernelspec": {
      "name": "python3",
      "display_name": "Python 3"
    },
    "language_info": {
      "name": "python"
    }
  },
  "cells": [
    {
      "cell_type": "markdown",
      "metadata": {
        "id": "view-in-github",
        "colab_type": "text"
      },
      "source": [
        "<a href=\"https://colab.research.google.com/github/Prasitha08/password_generator_Task-1/blob/main/Untitled17.ipynb\" target=\"_parent\"><img src=\"https://colab.research.google.com/assets/colab-badge.svg\" alt=\"Open In Colab\"/></a>"
      ]
    },
    {
      "cell_type": "code",
      "execution_count": 6,
      "metadata": {
        "colab": {
          "base_uri": "https://localhost:8080/"
        },
        "id": "pwqavZWz04iS",
        "outputId": "b0dafdca-1dcc-4d25-b0a5-e1eb880cf683"
      },
      "outputs": [
        {
          "output_type": "stream",
          "name": "stdout",
          "text": [
            "🔐 Password Generator 🔐\n",
            "Enter the desired password length: 6\n",
            "Include Uppercase Letters? (y/n): y\n",
            "Include Lowercase Letters? (y/n): y\n",
            "Include Numbers? (y/n): y\n",
            "Include Special Characters? (y/n): y\n",
            "\n",
            "✅ Your generated password is: X/9J0-\n"
          ]
        }
      ],
      "source": [
        "import random\n",
        "import string\n",
        "\n",
        "print(\"🔐 Password Generator 🔐\")\n",
        "\n",
        "# Step 1: Get user preferences\n",
        "length = int(input(\"Enter the desired password length: \"))\n",
        "\n",
        "include_upper = input(\"Include Uppercase Letters? (y/n): \").lower() == 'y'\n",
        "include_lower = input(\"Include Lowercase Letters? (y/n): \").lower() == 'y'\n",
        "include_numbers = input(\"Include Numbers? (y/n): \").lower() == 'y'\n",
        "include_special = input(\"Include Special Characters? (y/n): \").lower() == 'y'\n",
        "\n",
        "# Step 2: Build the character pool\n",
        "characters = \"\"\n",
        "if include_upper:\n",
        "    characters += string.ascii_uppercase\n",
        "if include_lower:\n",
        "    characters += string.ascii_lowercase\n",
        "if include_numbers:\n",
        "    characters += string.digits\n",
        "if include_special:\n",
        "    characters += string.punctuation\n",
        "\n",
        "# Step 3: Validate selection\n",
        "if not characters:\n",
        "    print(\"❌ You must select at least one character type!\")\n",
        "else:\n",
        "    # Step 4: Generate password\n",
        "    password = ''.join(random.choice(characters) for _ in range(length))\n",
        "    print(f\"\\n✅ Your generated password is: {password}\")\n"
      ]
    }
  ]
}